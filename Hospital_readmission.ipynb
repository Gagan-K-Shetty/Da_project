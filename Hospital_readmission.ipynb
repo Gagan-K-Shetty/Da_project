{
  "nbformat": 4,
  "nbformat_minor": 0,
  "metadata": {
    "colab": {
      "name": "Hospital_readmission.ipynb",
      "version": "0.3.2",
      "provenance": [],
      "collapsed_sections": [],
      "include_colab_link": true
    },
    "kernelspec": {
      "name": "python3",
      "display_name": "Python 3"
    },
    "accelerator": "TPU"
  },
  "cells": [
    {
      "cell_type": "markdown",
      "metadata": {
        "id": "view-in-github",
        "colab_type": "text"
      },
      "source": [
        "[View in Colaboratory](https://colab.research.google.com/github/Gagan-K-Shetty/Da_project/blob/master/Hospital_readmission.ipynb)"
      ]
    },
    {
      "metadata": {
        "id": "3uzJLLWTolug",
        "colab_type": "text"
      },
      "cell_type": "markdown",
      "source": [
        "# Introduction\n",
        "\n",
        "Hospital readmission measures have been touted not only as a quality measure, but also as a means to bend the healthcare cost curve. In the United States, hospital readmissions within a span of 30 days turn out to be an immense burden on the healthcare system and the patient's lifestyle.<br><br>\n",
        "A USFC study in the US shows that 27% of readmissions are potentially avoidable through better diagnosis at discharge or having a predictive mechanism to evaluate the chance of a patient being readmitted based on various factors. The cost per readmission in the US varies from 10 to 14 thousand dollars, subject to the insurance plan, medical facilities utilized etc.<br><br>\n",
        "For this purpose, we intend to perform data analytics on the electronic health records of patients and determine the main indicators of hospital readmission and predict the chances of readmission in the future for the current patients.\n"
      ]
    },
    {
      "metadata": {
        "id": "PwkICqPUolui",
        "colab_type": "text"
      },
      "cell_type": "markdown",
      "source": [
        "### The rest of the notebook contains the project ordered as follows :-\n",
        "<ol>\n",
        "    <li><a href='#Research_goal'> Setting the research goal </a></li>\n",
        "    <li><a href='#Retrieving_data'> Retrieving data </a></li>\n",
        "    <li><a href='#Data_preparation'> Data preparation </a></li>\n",
        "    <li><a href='#Data_exploration'> Data exploration </a></li>\n",
        "    <li><a href='#Data_modeling'> Data modeling </a></li> \n",
        "    <li><a href='#Presentation'> Presentation and automation </a></li>\n",
        "</ol>"
      ]
    },
    {
      "metadata": {
        "id": "-CNta73Coluj",
        "colab_type": "text"
      },
      "cell_type": "markdown",
      "source": [
        "<a id='Research_goal'></a>\n",
        "# Setting the research goal\n",
        "The main aim of this project to **predict the chances of readmission of a patient**. Using the electronic health records, we can identify the main indicators of hospital readmissions and flag the patients at high risk of readmission to the hospital. The scope of this project is limited to identifying readmission scenarios in to cases :-\n",
        "<ol>\n",
        "    <li> Readmission within 3 months </li>\n",
        "    <li> Readmission between 3 to 6 months</li>\n",
        "</ol>\n",
        "The main advantages of this project:-\n",
        "  * **Patient comfort** - By reducing the number of readmissions, we can improve the lives of patients and reduce the repeated time they spend in hospital by targeting the problems at an earlier stage.\n",
        "  * **Hospital burden** - By reducing the number of readmissions, we can reduce the burden on the healthcare system by potentially treating the diseases at an earlier stage and reduce the number of patients overburdening the hospital(atleast the one which coudl be avoided)\n",
        "  * **Cost factor** - By reducing the number of readmissions, we can reduce the cost associated with healthcare, which is a burden on both the patients and the insurance companies."
      ]
    },
    {
      "metadata": {
        "id": "Gh_N2xaXoluk",
        "colab_type": "text"
      },
      "cell_type": "markdown",
      "source": [
        "<a id='Retrieving_data'></a>\n",
        "# Retrieving the data\n",
        "Since the aim of the project is to reduce the readmission of patients, we need data of the patients while they are admitted in the hospital. Many hospitals maintain records of patients. These records are called Electronic Health Records(EHR).<br> For the purpose of the project, we looked for publicly available EHR datasets to work on. After researching on the data sets available, we found the MIMIC-III dataset to be the best choice for our project.<br><br>\n",
        "<a href='https://www.nature.com/articles/sdata201635'>MIMIC-III</a> is an openly available dataset developed by the MIT Lab for Computational Physiology, comprising deidentified health data associated with ~40,000 critical care patients. It includes demographics, vital signs, laboratory tests, medications, and more.\n",
        "<a href='https://mit-lcp.github.io/mimic-schema-spy'/>Click here</a> for a detailed schema of the database.<br>\n",
        "After some research, we decided to use the following tables from the database:-\n",
        "   * **patients** : Contains patients associated with an admission to the ICU\n",
        "   * **admissions** : Contains the hospital admissions associated with an ICU stay.\n",
        "   * **diagnoses** : Contains diagnoses relating to a hospital admission coded using the ICD9 system.\n",
        "   * **drgCodes** : Hospital stays classified using the Diagnosis-Related Group system.\n",
        "   * **icuStays** : List of ICU admissions.\n",
        "   * **procedures** : Procedures relating to a hospital admission coded using the ICD9 system.\n",
        "   * **prescriptions** : Contains a list of the medicines prescribed \n",
        "   * **dIcdDiagnoses** : Dictionary of the International Classification of Diseases, 9th Revision (Diagnoses).\n",
        "   * **dIcdProcedures** : Dictionary of the International Classification of Diseases, 9th Revision (Procedures).\n",
        "   \n",
        "For this project we pulled records(maximum of 50k records) from each of these tables. The contents of the tables are described in the next step."
      ]
    },
    {
      "metadata": {
        "id": "5_Aiv_EA9Jtv",
        "colab_type": "text"
      },
      "cell_type": "markdown",
      "source": [
        "Since we are using google colab, we need some boiler plate code to load the data stored in the google drive:-"
      ]
    },
    {
      "metadata": {
        "id": "VVCgBnj2xz9c",
        "colab_type": "code",
        "colab": {}
      },
      "cell_type": "code",
      "source": [
        "!pip install -U -q PyDrive\n",
        "from pydrive.auth import GoogleAuth\n",
        "from pydrive.drive import GoogleDrive\n",
        "from google.colab import auth\n",
        "from oauth2client.client import GoogleCredentials\n",
        "import os\n",
        "import pandas as pd\n",
        "pd.set_option('display.max_rows', 10)\n",
        "pd.set_option('display.max_columns', 500)"
      ],
      "execution_count": 0,
      "outputs": []
    },
    {
      "metadata": {
        "id": "aNaSkWnGuzr0",
        "colab_type": "code",
        "colab": {
          "base_uri": "https://localhost:8080/",
          "height": 34
        },
        "outputId": "9b1f879a-84fe-40ea-f5a0-49edca508d91"
      },
      "cell_type": "code",
      "source": [
        "auth.authenticate_user()\n",
        "gauth = GoogleAuth()\n",
        "gauth.credentials = GoogleCredentials.get_application_default()\n",
        "drive = GoogleDrive(gauth)\n",
        "folder_id = '19W1TgqRQqPxTxCCb1hGR1QhGajSjSs01'\n",
        "listed = drive.ListFile({'q': \"title contains '.csv' and '\"+folder_id+\"' in parents\"}).GetList()\n",
        "files = []\n",
        "for file in listed:\n",
        "  #print('title {}, id {}'.format(file['title'], file['id']))\n",
        "  files.append({'title' : file['title'], 'id' : file['id']})\n",
        "download_path = os.path.expanduser('~/data')\n",
        "try:\n",
        "  os.makedirs(download_path)\n",
        "except :\n",
        "  pass\n",
        "dataset = {}\n",
        "for x in files:\n",
        "  output_file = os.path.join(download_path, x['title'])\n",
        "  temp_file = drive.CreateFile({'id': x['id']})\n",
        "  temp_file.GetContentFile(output_file)\n",
        "  data = pd.read_csv(output_file)\n",
        "  #print(data)\n",
        "  dataset[x['title']] = data\n",
        "print(\"Table names are\",\", \".join(dataset.keys()))"
      ],
      "execution_count": 2,
      "outputs": [
        {
          "output_type": "stream",
          "text": [
            "Table names are procedures.csv, prescriptions.csv, patients.csv, icuStays.csv, drgCodes.csv, dIcdDiagnoses.csv, diagnoses.csv, admissions.csv, dIcdProcedures.csv\n"
          ],
          "name": "stdout"
        }
      ]
    },
    {
      "metadata": {
        "id": "bSPhjLsEolul",
        "colab_type": "text"
      },
      "cell_type": "markdown",
      "source": [
        "<a id='Data_preparation'></a>\n",
        "# Data Preparation\n",
        "In this step, we perform the standard data cleaning steps. Let’s take a look at each table one by one. First lets load the requied libraries"
      ]
    },
    {
      "metadata": {
        "id": "eTH01Prwx-fX",
        "colab_type": "code",
        "colab": {}
      },
      "cell_type": "code",
      "source": [
        "import numpy as np"
      ],
      "execution_count": 0,
      "outputs": []
    },
    {
      "metadata": {
        "id": "uMsn8Rrj56wq",
        "colab_type": "text"
      },
      "cell_type": "markdown",
      "source": [
        "Let's take a look at the actual contents of the table \"admissions\""
      ]
    },
    {
      "metadata": {
        "id": "cf7icyZ1u96N",
        "colab_type": "code",
        "colab": {
          "base_uri": "https://localhost:8080/",
          "height": 623
        },
        "outputId": "bdd4e048-bcd5-459b-a921-91afc182062a"
      },
      "cell_type": "code",
      "source": [
        "admissions = dataset[\"admissions.csv\"]\n",
        "admissions"
      ],
      "execution_count": 4,
      "outputs": [
        {
          "output_type": "execute_result",
          "data": {
            "text/html": [
              "<div>\n",
              "<style scoped>\n",
              "    .dataframe tbody tr th:only-of-type {\n",
              "        vertical-align: middle;\n",
              "    }\n",
              "\n",
              "    .dataframe tbody tr th {\n",
              "        vertical-align: top;\n",
              "    }\n",
              "\n",
              "    .dataframe thead th {\n",
              "        text-align: right;\n",
              "    }\n",
              "</style>\n",
              "<table border=\"1\" class=\"dataframe\">\n",
              "  <thead>\n",
              "    <tr style=\"text-align: right;\">\n",
              "      <th></th>\n",
              "      <th>admission_location</th>\n",
              "      <th>admission_type</th>\n",
              "      <th>admittime</th>\n",
              "      <th>deathtime</th>\n",
              "      <th>diagnosis</th>\n",
              "      <th>discharge_location</th>\n",
              "      <th>dischtime</th>\n",
              "      <th>edouttime</th>\n",
              "      <th>edregtime</th>\n",
              "      <th>ethnicity</th>\n",
              "      <th>hadm_id</th>\n",
              "      <th>has_chartevents_data</th>\n",
              "      <th>hospital_expire_flag</th>\n",
              "      <th>insurance</th>\n",
              "      <th>language</th>\n",
              "      <th>marital_status</th>\n",
              "      <th>religion</th>\n",
              "      <th>row_id</th>\n",
              "      <th>subject_id</th>\n",
              "    </tr>\n",
              "  </thead>\n",
              "  <tbody>\n",
              "    <tr>\n",
              "      <th>0</th>\n",
              "      <td>EMERGENCY ROOM ADMIT</td>\n",
              "      <td>EMERGENCY</td>\n",
              "      <td>2196-04-09T12:26:00.000Z</td>\n",
              "      <td>NaN</td>\n",
              "      <td>BENZODIAZEPINE OVERDOSE</td>\n",
              "      <td>DISC-TRAN CANCER/CHLDRN H</td>\n",
              "      <td>2196-04-10T15:54:00.000Z</td>\n",
              "      <td>2196-04-09T13:24:00.000Z</td>\n",
              "      <td>2196-04-09T10:06:00.000Z</td>\n",
              "      <td>WHITE</td>\n",
              "      <td>165315</td>\n",
              "      <td>1</td>\n",
              "      <td>0</td>\n",
              "      <td>Private</td>\n",
              "      <td>NaN</td>\n",
              "      <td>MARRIED</td>\n",
              "      <td>UNOBTAINABLE</td>\n",
              "      <td>21</td>\n",
              "      <td>22</td>\n",
              "    </tr>\n",
              "    <tr>\n",
              "      <th>1</th>\n",
              "      <td>PHYS REFERRAL/NORMAL DELI</td>\n",
              "      <td>ELECTIVE</td>\n",
              "      <td>2153-09-03T07:15:00.000Z</td>\n",
              "      <td>NaN</td>\n",
              "      <td>CORONARY ARTERY DISEASE\\CORONARY ARTERY BYPASS...</td>\n",
              "      <td>HOME HEALTH CARE</td>\n",
              "      <td>2153-09-08T19:10:00.000Z</td>\n",
              "      <td>NaN</td>\n",
              "      <td>NaN</td>\n",
              "      <td>WHITE</td>\n",
              "      <td>152223</td>\n",
              "      <td>1</td>\n",
              "      <td>0</td>\n",
              "      <td>Medicare</td>\n",
              "      <td>NaN</td>\n",
              "      <td>MARRIED</td>\n",
              "      <td>CATHOLIC</td>\n",
              "      <td>22</td>\n",
              "      <td>23</td>\n",
              "    </tr>\n",
              "    <tr>\n",
              "      <th>2</th>\n",
              "      <td>TRANSFER FROM HOSP/EXTRAM</td>\n",
              "      <td>EMERGENCY</td>\n",
              "      <td>2157-10-18T19:34:00.000Z</td>\n",
              "      <td>NaN</td>\n",
              "      <td>BRAIN MASS</td>\n",
              "      <td>HOME HEALTH CARE</td>\n",
              "      <td>2157-10-25T14:00:00.000Z</td>\n",
              "      <td>NaN</td>\n",
              "      <td>NaN</td>\n",
              "      <td>WHITE</td>\n",
              "      <td>124321</td>\n",
              "      <td>1</td>\n",
              "      <td>0</td>\n",
              "      <td>Medicare</td>\n",
              "      <td>ENGL</td>\n",
              "      <td>MARRIED</td>\n",
              "      <td>CATHOLIC</td>\n",
              "      <td>23</td>\n",
              "      <td>23</td>\n",
              "    </tr>\n",
              "    <tr>\n",
              "      <th>3</th>\n",
              "      <td>TRANSFER FROM HOSP/EXTRAM</td>\n",
              "      <td>EMERGENCY</td>\n",
              "      <td>2139-06-06T16:14:00.000Z</td>\n",
              "      <td>NaN</td>\n",
              "      <td>INTERIOR MYOCARDIAL INFARCTION</td>\n",
              "      <td>HOME</td>\n",
              "      <td>2139-06-09T12:48:00.000Z</td>\n",
              "      <td>NaN</td>\n",
              "      <td>NaN</td>\n",
              "      <td>WHITE</td>\n",
              "      <td>161859</td>\n",
              "      <td>1</td>\n",
              "      <td>0</td>\n",
              "      <td>Private</td>\n",
              "      <td>NaN</td>\n",
              "      <td>SINGLE</td>\n",
              "      <td>PROTESTANT QUAKER</td>\n",
              "      <td>24</td>\n",
              "      <td>24</td>\n",
              "    </tr>\n",
              "    <tr>\n",
              "      <th>4</th>\n",
              "      <td>EMERGENCY ROOM ADMIT</td>\n",
              "      <td>EMERGENCY</td>\n",
              "      <td>2160-11-02T02:06:00.000Z</td>\n",
              "      <td>NaN</td>\n",
              "      <td>ACUTE CORONARY SYNDROME</td>\n",
              "      <td>HOME</td>\n",
              "      <td>2160-11-05T14:55:00.000Z</td>\n",
              "      <td>2160-11-02T04:27:00.000Z</td>\n",
              "      <td>2160-11-02T01:01:00.000Z</td>\n",
              "      <td>WHITE</td>\n",
              "      <td>129635</td>\n",
              "      <td>1</td>\n",
              "      <td>0</td>\n",
              "      <td>Private</td>\n",
              "      <td>NaN</td>\n",
              "      <td>MARRIED</td>\n",
              "      <td>UNOBTAINABLE</td>\n",
              "      <td>25</td>\n",
              "      <td>25</td>\n",
              "    </tr>\n",
              "    <tr>\n",
              "      <th>...</th>\n",
              "      <td>...</td>\n",
              "      <td>...</td>\n",
              "      <td>...</td>\n",
              "      <td>...</td>\n",
              "      <td>...</td>\n",
              "      <td>...</td>\n",
              "      <td>...</td>\n",
              "      <td>...</td>\n",
              "      <td>...</td>\n",
              "      <td>...</td>\n",
              "      <td>...</td>\n",
              "      <td>...</td>\n",
              "      <td>...</td>\n",
              "      <td>...</td>\n",
              "      <td>...</td>\n",
              "      <td>...</td>\n",
              "      <td>...</td>\n",
              "      <td>...</td>\n",
              "      <td>...</td>\n",
              "    </tr>\n",
              "    <tr>\n",
              "      <th>49995</th>\n",
              "      <td>EMERGENCY ROOM ADMIT</td>\n",
              "      <td>EMERGENCY</td>\n",
              "      <td>2101-12-28T00:07:00.000Z</td>\n",
              "      <td>NaN</td>\n",
              "      <td>BRAIN MASS</td>\n",
              "      <td>HOME</td>\n",
              "      <td>2102-01-04T12:40:00.000Z</td>\n",
              "      <td>2101-12-28T00:53:00.000Z</td>\n",
              "      <td>2101-12-27T19:18:00.000Z</td>\n",
              "      <td>WHITE</td>\n",
              "      <td>193198</td>\n",
              "      <td>1</td>\n",
              "      <td>0</td>\n",
              "      <td>Private</td>\n",
              "      <td>ENGL</td>\n",
              "      <td>MARRIED</td>\n",
              "      <td>CATHOLIC</td>\n",
              "      <td>49113</td>\n",
              "      <td>68944</td>\n",
              "    </tr>\n",
              "    <tr>\n",
              "      <th>49996</th>\n",
              "      <td>CLINIC REFERRAL/PREMATURE</td>\n",
              "      <td>EMERGENCY</td>\n",
              "      <td>2102-11-14T18:50:00.000Z</td>\n",
              "      <td>NaN</td>\n",
              "      <td>PNEUMONIA</td>\n",
              "      <td>LONG TERM CARE HOSPITAL</td>\n",
              "      <td>2102-12-07T13:46:00.000Z</td>\n",
              "      <td>2102-11-14T19:21:00.000Z</td>\n",
              "      <td>2102-11-14T17:20:00.000Z</td>\n",
              "      <td>WHITE</td>\n",
              "      <td>192475</td>\n",
              "      <td>1</td>\n",
              "      <td>0</td>\n",
              "      <td>Private</td>\n",
              "      <td>ENGL</td>\n",
              "      <td>MARRIED</td>\n",
              "      <td>CATHOLIC</td>\n",
              "      <td>49114</td>\n",
              "      <td>68944</td>\n",
              "    </tr>\n",
              "    <tr>\n",
              "      <th>49997</th>\n",
              "      <td>CLINIC REFERRAL/PREMATURE</td>\n",
              "      <td>EMERGENCY</td>\n",
              "      <td>2103-02-05T04:22:00.000Z</td>\n",
              "      <td>NaN</td>\n",
              "      <td>SEIZURES</td>\n",
              "      <td>REHAB/DISTINCT PART HOSP</td>\n",
              "      <td>2103-02-14T13:00:00.000Z</td>\n",
              "      <td>2103-02-05T06:30:00.000Z</td>\n",
              "      <td>2103-02-05T00:36:00.000Z</td>\n",
              "      <td>WHITE</td>\n",
              "      <td>145719</td>\n",
              "      <td>1</td>\n",
              "      <td>0</td>\n",
              "      <td>Private</td>\n",
              "      <td>ENGL</td>\n",
              "      <td>MARRIED</td>\n",
              "      <td>CATHOLIC</td>\n",
              "      <td>49115</td>\n",
              "      <td>68944</td>\n",
              "    </tr>\n",
              "    <tr>\n",
              "      <th>49998</th>\n",
              "      <td>TRANSFER FROM HOSP/EXTRAM</td>\n",
              "      <td>EMERGENCY</td>\n",
              "      <td>2103-05-22T18:05:00.000Z</td>\n",
              "      <td>NaN</td>\n",
              "      <td>PNEUMONIA</td>\n",
              "      <td>REHAB/DISTINCT PART HOSP</td>\n",
              "      <td>2103-06-07T15:37:00.000Z</td>\n",
              "      <td>NaN</td>\n",
              "      <td>NaN</td>\n",
              "      <td>WHITE</td>\n",
              "      <td>170602</td>\n",
              "      <td>1</td>\n",
              "      <td>0</td>\n",
              "      <td>Private</td>\n",
              "      <td>ENGL</td>\n",
              "      <td>MARRIED</td>\n",
              "      <td>CATHOLIC</td>\n",
              "      <td>49116</td>\n",
              "      <td>68944</td>\n",
              "    </tr>\n",
              "    <tr>\n",
              "      <th>49999</th>\n",
              "      <td>CLINIC REFERRAL/PREMATURE</td>\n",
              "      <td>EMERGENCY</td>\n",
              "      <td>2103-07-17T18:47:00.000Z</td>\n",
              "      <td>NaN</td>\n",
              "      <td>ALTERED MENTAL STATUS</td>\n",
              "      <td>HOSPICE-HOME</td>\n",
              "      <td>2103-07-30T17:50:00.000Z</td>\n",
              "      <td>2103-07-17T20:11:00.000Z</td>\n",
              "      <td>2103-07-17T12:45:00.000Z</td>\n",
              "      <td>WHITE</td>\n",
              "      <td>148795</td>\n",
              "      <td>1</td>\n",
              "      <td>0</td>\n",
              "      <td>Private</td>\n",
              "      <td>ENGL</td>\n",
              "      <td>MARRIED</td>\n",
              "      <td>CATHOLIC</td>\n",
              "      <td>49117</td>\n",
              "      <td>68944</td>\n",
              "    </tr>\n",
              "  </tbody>\n",
              "</table>\n",
              "<p>50000 rows × 19 columns</p>\n",
              "</div>"
            ],
            "text/plain": [
              "              admission_location admission_type                 admittime  \\\n",
              "0           EMERGENCY ROOM ADMIT      EMERGENCY  2196-04-09T12:26:00.000Z   \n",
              "1      PHYS REFERRAL/NORMAL DELI       ELECTIVE  2153-09-03T07:15:00.000Z   \n",
              "2      TRANSFER FROM HOSP/EXTRAM      EMERGENCY  2157-10-18T19:34:00.000Z   \n",
              "3      TRANSFER FROM HOSP/EXTRAM      EMERGENCY  2139-06-06T16:14:00.000Z   \n",
              "4           EMERGENCY ROOM ADMIT      EMERGENCY  2160-11-02T02:06:00.000Z   \n",
              "...                          ...            ...                       ...   \n",
              "49995       EMERGENCY ROOM ADMIT      EMERGENCY  2101-12-28T00:07:00.000Z   \n",
              "49996  CLINIC REFERRAL/PREMATURE      EMERGENCY  2102-11-14T18:50:00.000Z   \n",
              "49997  CLINIC REFERRAL/PREMATURE      EMERGENCY  2103-02-05T04:22:00.000Z   \n",
              "49998  TRANSFER FROM HOSP/EXTRAM      EMERGENCY  2103-05-22T18:05:00.000Z   \n",
              "49999  CLINIC REFERRAL/PREMATURE      EMERGENCY  2103-07-17T18:47:00.000Z   \n",
              "\n",
              "      deathtime                                          diagnosis  \\\n",
              "0           NaN                            BENZODIAZEPINE OVERDOSE   \n",
              "1           NaN  CORONARY ARTERY DISEASE\\CORONARY ARTERY BYPASS...   \n",
              "2           NaN                                         BRAIN MASS   \n",
              "3           NaN                     INTERIOR MYOCARDIAL INFARCTION   \n",
              "4           NaN                            ACUTE CORONARY SYNDROME   \n",
              "...         ...                                                ...   \n",
              "49995       NaN                                         BRAIN MASS   \n",
              "49996       NaN                                          PNEUMONIA   \n",
              "49997       NaN                                           SEIZURES   \n",
              "49998       NaN                                          PNEUMONIA   \n",
              "49999       NaN                              ALTERED MENTAL STATUS   \n",
              "\n",
              "              discharge_location                 dischtime  \\\n",
              "0      DISC-TRAN CANCER/CHLDRN H  2196-04-10T15:54:00.000Z   \n",
              "1               HOME HEALTH CARE  2153-09-08T19:10:00.000Z   \n",
              "2               HOME HEALTH CARE  2157-10-25T14:00:00.000Z   \n",
              "3                           HOME  2139-06-09T12:48:00.000Z   \n",
              "4                           HOME  2160-11-05T14:55:00.000Z   \n",
              "...                          ...                       ...   \n",
              "49995                       HOME  2102-01-04T12:40:00.000Z   \n",
              "49996    LONG TERM CARE HOSPITAL  2102-12-07T13:46:00.000Z   \n",
              "49997   REHAB/DISTINCT PART HOSP  2103-02-14T13:00:00.000Z   \n",
              "49998   REHAB/DISTINCT PART HOSP  2103-06-07T15:37:00.000Z   \n",
              "49999               HOSPICE-HOME  2103-07-30T17:50:00.000Z   \n",
              "\n",
              "                      edouttime                 edregtime ethnicity  hadm_id  \\\n",
              "0      2196-04-09T13:24:00.000Z  2196-04-09T10:06:00.000Z     WHITE   165315   \n",
              "1                           NaN                       NaN     WHITE   152223   \n",
              "2                           NaN                       NaN     WHITE   124321   \n",
              "3                           NaN                       NaN     WHITE   161859   \n",
              "4      2160-11-02T04:27:00.000Z  2160-11-02T01:01:00.000Z     WHITE   129635   \n",
              "...                         ...                       ...       ...      ...   \n",
              "49995  2101-12-28T00:53:00.000Z  2101-12-27T19:18:00.000Z     WHITE   193198   \n",
              "49996  2102-11-14T19:21:00.000Z  2102-11-14T17:20:00.000Z     WHITE   192475   \n",
              "49997  2103-02-05T06:30:00.000Z  2103-02-05T00:36:00.000Z     WHITE   145719   \n",
              "49998                       NaN                       NaN     WHITE   170602   \n",
              "49999  2103-07-17T20:11:00.000Z  2103-07-17T12:45:00.000Z     WHITE   148795   \n",
              "\n",
              "       has_chartevents_data  hospital_expire_flag insurance language  \\\n",
              "0                         1                     0   Private      NaN   \n",
              "1                         1                     0  Medicare      NaN   \n",
              "2                         1                     0  Medicare     ENGL   \n",
              "3                         1                     0   Private      NaN   \n",
              "4                         1                     0   Private      NaN   \n",
              "...                     ...                   ...       ...      ...   \n",
              "49995                     1                     0   Private     ENGL   \n",
              "49996                     1                     0   Private     ENGL   \n",
              "49997                     1                     0   Private     ENGL   \n",
              "49998                     1                     0   Private     ENGL   \n",
              "49999                     1                     0   Private     ENGL   \n",
              "\n",
              "      marital_status           religion  row_id  subject_id  \n",
              "0            MARRIED       UNOBTAINABLE      21          22  \n",
              "1            MARRIED           CATHOLIC      22          23  \n",
              "2            MARRIED           CATHOLIC      23          23  \n",
              "3             SINGLE  PROTESTANT QUAKER      24          24  \n",
              "4            MARRIED       UNOBTAINABLE      25          25  \n",
              "...              ...                ...     ...         ...  \n",
              "49995        MARRIED           CATHOLIC   49113       68944  \n",
              "49996        MARRIED           CATHOLIC   49114       68944  \n",
              "49997        MARRIED           CATHOLIC   49115       68944  \n",
              "49998        MARRIED           CATHOLIC   49116       68944  \n",
              "49999        MARRIED           CATHOLIC   49117       68944  \n",
              "\n",
              "[50000 rows x 19 columns]"
            ]
          },
          "metadata": {
            "tags": []
          },
          "execution_count": 4
        }
      ]
    },
    {
      "metadata": {
        "id": "YiSduTrnyg0Z",
        "colab_type": "text"
      },
      "cell_type": "markdown",
      "source": [
        "Now that we have an idea of the contents of the table, lets take a look at the summary statistics"
      ]
    },
    {
      "metadata": {
        "id": "zEjsy7byu_Qs",
        "colab_type": "code",
        "colab": {
          "base_uri": "https://localhost:8080/",
          "height": 284
        },
        "outputId": "d6ec98d2-05c7-4678-aa53-1f4e5e74e5dc"
      },
      "cell_type": "code",
      "source": [
        "admissions.describe(include = [np.number])"
      ],
      "execution_count": 5,
      "outputs": [
        {
          "output_type": "execute_result",
          "data": {
            "text/html": [
              "<div>\n",
              "<style scoped>\n",
              "    .dataframe tbody tr th:only-of-type {\n",
              "        vertical-align: middle;\n",
              "    }\n",
              "\n",
              "    .dataframe tbody tr th {\n",
              "        vertical-align: top;\n",
              "    }\n",
              "\n",
              "    .dataframe thead th {\n",
              "        text-align: right;\n",
              "    }\n",
              "</style>\n",
              "<table border=\"1\" class=\"dataframe\">\n",
              "  <thead>\n",
              "    <tr style=\"text-align: right;\">\n",
              "      <th></th>\n",
              "      <th>hadm_id</th>\n",
              "      <th>has_chartevents_data</th>\n",
              "      <th>hospital_expire_flag</th>\n",
              "      <th>row_id</th>\n",
              "      <th>subject_id</th>\n",
              "    </tr>\n",
              "  </thead>\n",
              "  <tbody>\n",
              "    <tr>\n",
              "      <th>count</th>\n",
              "      <td>50000.000000</td>\n",
              "      <td>50000.000000</td>\n",
              "      <td>50000.000000</td>\n",
              "      <td>50000.000000</td>\n",
              "      <td>50000.000000</td>\n",
              "    </tr>\n",
              "    <tr>\n",
              "      <th>mean</th>\n",
              "      <td>149912.052140</td>\n",
              "      <td>0.972080</td>\n",
              "      <td>0.099540</td>\n",
              "      <td>25025.728800</td>\n",
              "      <td>24471.161320</td>\n",
              "    </tr>\n",
              "    <tr>\n",
              "      <th>std</th>\n",
              "      <td>28876.168275</td>\n",
              "      <td>0.164745</td>\n",
              "      <td>0.299389</td>\n",
              "      <td>14476.341475</td>\n",
              "      <td>18707.237912</td>\n",
              "    </tr>\n",
              "    <tr>\n",
              "      <th>min</th>\n",
              "      <td>100001.000000</td>\n",
              "      <td>0.000000</td>\n",
              "      <td>0.000000</td>\n",
              "      <td>1.000000</td>\n",
              "      <td>2.000000</td>\n",
              "    </tr>\n",
              "    <tr>\n",
              "      <th>25%</th>\n",
              "      <td>124888.500000</td>\n",
              "      <td>1.000000</td>\n",
              "      <td>0.000000</td>\n",
              "      <td>12500.750000</td>\n",
              "      <td>10220.000000</td>\n",
              "    </tr>\n",
              "    <tr>\n",
              "      <th>50%</th>\n",
              "      <td>149903.500000</td>\n",
              "      <td>1.000000</td>\n",
              "      <td>0.000000</td>\n",
              "      <td>25000.500000</td>\n",
              "      <td>20483.500000</td>\n",
              "    </tr>\n",
              "    <tr>\n",
              "      <th>75%</th>\n",
              "      <td>174893.250000</td>\n",
              "      <td>1.000000</td>\n",
              "      <td>0.000000</td>\n",
              "      <td>37500.250000</td>\n",
              "      <td>30798.250000</td>\n",
              "    </tr>\n",
              "    <tr>\n",
              "      <th>max</th>\n",
              "      <td>199999.000000</td>\n",
              "      <td>1.000000</td>\n",
              "      <td>1.000000</td>\n",
              "      <td>58341.000000</td>\n",
              "      <td>97948.000000</td>\n",
              "    </tr>\n",
              "  </tbody>\n",
              "</table>\n",
              "</div>"
            ],
            "text/plain": [
              "             hadm_id  has_chartevents_data  hospital_expire_flag  \\\n",
              "count   50000.000000          50000.000000          50000.000000   \n",
              "mean   149912.052140              0.972080              0.099540   \n",
              "std     28876.168275              0.164745              0.299389   \n",
              "min    100001.000000              0.000000              0.000000   \n",
              "25%    124888.500000              1.000000              0.000000   \n",
              "50%    149903.500000              1.000000              0.000000   \n",
              "75%    174893.250000              1.000000              0.000000   \n",
              "max    199999.000000              1.000000              1.000000   \n",
              "\n",
              "             row_id    subject_id  \n",
              "count  50000.000000  50000.000000  \n",
              "mean   25025.728800  24471.161320  \n",
              "std    14476.341475  18707.237912  \n",
              "min        1.000000      2.000000  \n",
              "25%    12500.750000  10220.000000  \n",
              "50%    25000.500000  20483.500000  \n",
              "75%    37500.250000  30798.250000  \n",
              "max    58341.000000  97948.000000  "
            ]
          },
          "metadata": {
            "tags": []
          },
          "execution_count": 5
        }
      ]
    },
    {
      "metadata": {
        "id": "zTtXW5SXu_C9",
        "colab_type": "text"
      },
      "cell_type": "markdown",
      "source": [
        "The above output show the descriptive stastics of the numerical data. However, most of the numeric columns are primary keys and foreign keys. Let's take a look at the categorical data."
      ]
    },
    {
      "metadata": {
        "id": "_SXvhLuWu-OS",
        "colab_type": "code",
        "colab": {
          "base_uri": "https://localhost:8080/",
          "height": 202
        },
        "outputId": "d6883313-3927-4be3-8d28-2cb04494f71a"
      },
      "cell_type": "code",
      "source": [
        "admissions.describe(include = ['O'])"
      ],
      "execution_count": 6,
      "outputs": [
        {
          "output_type": "execute_result",
          "data": {
            "text/html": [
              "<div>\n",
              "<style scoped>\n",
              "    .dataframe tbody tr th:only-of-type {\n",
              "        vertical-align: middle;\n",
              "    }\n",
              "\n",
              "    .dataframe tbody tr th {\n",
              "        vertical-align: top;\n",
              "    }\n",
              "\n",
              "    .dataframe thead th {\n",
              "        text-align: right;\n",
              "    }\n",
              "</style>\n",
              "<table border=\"1\" class=\"dataframe\">\n",
              "  <thead>\n",
              "    <tr style=\"text-align: right;\">\n",
              "      <th></th>\n",
              "      <th>admission_location</th>\n",
              "      <th>admission_type</th>\n",
              "      <th>admittime</th>\n",
              "      <th>deathtime</th>\n",
              "      <th>diagnosis</th>\n",
              "      <th>discharge_location</th>\n",
              "      <th>dischtime</th>\n",
              "      <th>edouttime</th>\n",
              "      <th>edregtime</th>\n",
              "      <th>ethnicity</th>\n",
              "      <th>insurance</th>\n",
              "      <th>language</th>\n",
              "      <th>marital_status</th>\n",
              "      <th>religion</th>\n",
              "    </tr>\n",
              "  </thead>\n",
              "  <tbody>\n",
              "    <tr>\n",
              "      <th>count</th>\n",
              "      <td>50000</td>\n",
              "      <td>50000</td>\n",
              "      <td>50000</td>\n",
              "      <td>4977</td>\n",
              "      <td>49979</td>\n",
              "      <td>50000</td>\n",
              "      <td>50000</td>\n",
              "      <td>25161</td>\n",
              "      <td>25161</td>\n",
              "      <td>50000</td>\n",
              "      <td>50000</td>\n",
              "      <td>24748</td>\n",
              "      <td>40238</td>\n",
              "      <td>49542</td>\n",
              "    </tr>\n",
              "    <tr>\n",
              "      <th>unique</th>\n",
              "      <td>9</td>\n",
              "      <td>4</td>\n",
              "      <td>49775</td>\n",
              "      <td>4957</td>\n",
              "      <td>13564</td>\n",
              "      <td>17</td>\n",
              "      <td>49772</td>\n",
              "      <td>25152</td>\n",
              "      <td>25158</td>\n",
              "      <td>41</td>\n",
              "      <td>5</td>\n",
              "      <td>68</td>\n",
              "      <td>7</td>\n",
              "      <td>20</td>\n",
              "    </tr>\n",
              "    <tr>\n",
              "      <th>top</th>\n",
              "      <td>EMERGENCY ROOM ADMIT</td>\n",
              "      <td>EMERGENCY</td>\n",
              "      <td>2191-08-23T07:15:00.000Z</td>\n",
              "      <td>2195-11-28T17:17:00.000Z</td>\n",
              "      <td>NEWBORN</td>\n",
              "      <td>HOME</td>\n",
              "      <td>2101-09-22T13:00:00.000Z</td>\n",
              "      <td>2149-02-06T17:18:00.000Z</td>\n",
              "      <td>2130-05-30T16:53:00.000Z</td>\n",
              "      <td>WHITE</td>\n",
              "      <td>Medicare</td>\n",
              "      <td>ENGL</td>\n",
              "      <td>MARRIED</td>\n",
              "      <td>CATHOLIC</td>\n",
              "    </tr>\n",
              "    <tr>\n",
              "      <th>freq</th>\n",
              "      <td>20331</td>\n",
              "      <td>34574</td>\n",
              "      <td>4</td>\n",
              "      <td>2</td>\n",
              "      <td>7823</td>\n",
              "      <td>16575</td>\n",
              "      <td>3</td>\n",
              "      <td>2</td>\n",
              "      <td>2</td>\n",
              "      <td>34512</td>\n",
              "      <td>23301</td>\n",
              "      <td>20985</td>\n",
              "      <td>19952</td>\n",
              "      <td>17446</td>\n",
              "    </tr>\n",
              "  </tbody>\n",
              "</table>\n",
              "</div>"
            ],
            "text/plain": [
              "          admission_location admission_type                 admittime  \\\n",
              "count                  50000          50000                     50000   \n",
              "unique                     9              4                     49775   \n",
              "top     EMERGENCY ROOM ADMIT      EMERGENCY  2191-08-23T07:15:00.000Z   \n",
              "freq                   20331          34574                         4   \n",
              "\n",
              "                       deathtime diagnosis discharge_location  \\\n",
              "count                       4977     49979              50000   \n",
              "unique                      4957     13564                 17   \n",
              "top     2195-11-28T17:17:00.000Z   NEWBORN               HOME   \n",
              "freq                           2      7823              16575   \n",
              "\n",
              "                       dischtime                 edouttime  \\\n",
              "count                      50000                     25161   \n",
              "unique                     49772                     25152   \n",
              "top     2101-09-22T13:00:00.000Z  2149-02-06T17:18:00.000Z   \n",
              "freq                           3                         2   \n",
              "\n",
              "                       edregtime ethnicity insurance language marital_status  \\\n",
              "count                      25161     50000     50000    24748          40238   \n",
              "unique                     25158        41         5       68              7   \n",
              "top     2130-05-30T16:53:00.000Z     WHITE  Medicare     ENGL        MARRIED   \n",
              "freq                           2     34512     23301    20985          19952   \n",
              "\n",
              "        religion  \n",
              "count      49542  \n",
              "unique        20  \n",
              "top     CATHOLIC  \n",
              "freq       17446  "
            ]
          },
          "metadata": {
            "tags": []
          },
          "execution_count": 6
        }
      ]
    },
    {
      "metadata": {
        "id": "t5NX7BfZzH02",
        "colab_type": "text"
      },
      "cell_type": "markdown",
      "source": [
        "The above cell describes the categorical data"
      ]
    },
    {
      "metadata": {
        "id": "8btvJeD0zhkd",
        "colab_type": "text"
      },
      "cell_type": "markdown",
      "source": [
        "One thing we might notice is that the time variables are in a different format. So lets go ahead and fix that:-"
      ]
    },
    {
      "metadata": {
        "id": "RKiDzyvYzjLt",
        "colab_type": "code",
        "colab": {
          "base_uri": "https://localhost:8080/",
          "height": 118
        },
        "outputId": "b72a22f4-c103-4ff7-e5ed-fb2a6beab34a"
      },
      "cell_type": "code",
      "source": [
        "admissions.admittime = pd.to_datetime(admissions.admittime)\n",
        "admissions.admittime.head()"
      ],
      "execution_count": 7,
      "outputs": [
        {
          "output_type": "execute_result",
          "data": {
            "text/plain": [
              "0   2196-04-09 12:26:00\n",
              "1   2153-09-03 07:15:00\n",
              "2   2157-10-18 19:34:00\n",
              "3   2139-06-06 16:14:00\n",
              "4   2160-11-02 02:06:00\n",
              "Name: admittime, dtype: datetime64[ns]"
            ]
          },
          "metadata": {
            "tags": []
          },
          "execution_count": 7
        }
      ]
    },
    {
      "metadata": {
        "id": "flpZq43q5RBw",
        "colab_type": "text"
      },
      "cell_type": "markdown",
      "source": [
        "You might have noticed that according to the admission date, admission events occured between 2100 to 2200 even though the events actually occured between 2001 and 2012. The reason for this is that before data was incorporated into the MIMIC-III database, it was first deidentified in accordance with Health Insurance Portability and Accountability Act (HIPAA) standards using structured data cleansing and date shifting. The deidentification process for structured data required the removal of all eighteen of the identifying data elements listed in HIPAA, including fields such as patient name, telephone number, address, and dates. In particular, dates were shifted into the future by a random offset for each individual patient in a consistent manner to preserve intervals, resulting in stays which occur sometime between the years 2100 and 2200. Time of day, day of the week, and approximate seasonality were conserved during date shifting. Dates of birth for patients aged over 89 were shifted to obscure their true age and comply with HIPAA regulations: these patients appear in the database with ages of over 300 years. Since the intervals are preserved, this won’t create any issues as we are interested in the differences in the times(lenght of stay, age, readmission, etc) Lets go ahead and convert the remaining dates as well."
      ]
    },
    {
      "metadata": {
        "id": "Fo-z66io5aJL",
        "colab_type": "code",
        "colab": {}
      },
      "cell_type": "code",
      "source": [
        "admissions.dischtime = pd.to_datetime(admissions.dischtime)\n",
        "admissions.edouttime = pd.to_datetime(admissions.edouttime)\n",
        "admissions.edregtime = pd.to_datetime(admissions.edregtime)\n",
        "admissions.deathtime = pd.to_datetime(admissions.deathtime)"
      ],
      "execution_count": 0,
      "outputs": []
    },
    {
      "metadata": {
        "id": "IIDNSyg1BNz5",
        "colab_type": "text"
      },
      "cell_type": "markdown",
      "source": [
        "Now that we have all the data in the expected format, lets look at the categorical data. Consider religion"
      ]
    },
    {
      "metadata": {
        "id": "ey-yqD0yBa-6",
        "colab_type": "code",
        "colab": {
          "base_uri": "https://localhost:8080/",
          "height": 386
        },
        "outputId": "999095e5-d74e-4ec7-ae1c-82a447ab9349"
      },
      "cell_type": "code",
      "source": [
        "pd.set_option('display.max_rows', 30)\n",
        "admissions.religion.value_counts(dropna=False)"
      ],
      "execution_count": 9,
      "outputs": [
        {
          "output_type": "execute_result",
          "data": {
            "text/plain": [
              "CATHOLIC                  17446\n",
              "NOT SPECIFIED              9245\n",
              "UNOBTAINABLE               7508\n",
              "PROTESTANT QUAKER          6048\n",
              "JEWISH                     4601\n",
              "OTHER                      2399\n",
              "EPISCOPALIAN                652\n",
              "NaN                         458\n",
              "GREEK ORTHODOX              366\n",
              "CHRISTIAN SCIENTIST         351\n",
              "BUDDHIST                    228\n",
              "MUSLIM                      206\n",
              "JEHOVAH'S WITNESS           116\n",
              "UNITARIAN-UNIVERSALIST      101\n",
              "HINDU                        89\n",
              "ROMANIAN EAST. ORTH          71\n",
              "7TH DAY ADVENTIST            64\n",
              "BAPTIST                      28\n",
              "HEBREW                       15\n",
              "METHODIST                     7\n",
              "LUTHERAN                      1\n",
              "Name: religion, dtype: int64"
            ]
          },
          "metadata": {
            "tags": []
          },
          "execution_count": 9
        }
      ]
    },
    {
      "metadata": {
        "id": "Ggq56748B664",
        "colab_type": "text"
      },
      "cell_type": "markdown",
      "source": [
        "Based on the statistics above, we can notice that several religions such as LUTHERAN, METHODIST, etc are a part of very few number of records (when compared to 50k records). We can merge these into the \"OTHER\" category as we cannot extract any meaningful information considering the paucity of records. Furthermore, \"NOT SPECIFIED\" and \"UNOBTAINABLE\" basically mean the same. NaN can be merged into the NOT SPECIFIED category as NaN indicates a problem in recording the data and we can treat it as an unobtainable value. Another thing to consider is that religions such as CATHOLIC, EPISCOPALIAN, etc are all various forms of Christian denominations. \n",
        "For the grouping of the religions, first we shall group similar religions(eg : different forms of christian denominations), then we shall group the religions with less than atleast 1000 records into \"OTHER\"."
      ]
    },
    {
      "metadata": {
        "id": "ur2tdGSfGwoy",
        "colab_type": "code",
        "colab": {
          "base_uri": "https://localhost:8080/",
          "height": 101
        },
        "outputId": "d8012103-3dbf-4013-f982-382355e4be3c"
      },
      "cell_type": "code",
      "source": [
        "admissions.religion = admissions.religion.str.replace(\"|\".join([\"CATHOLIC\",\"PROTESTANT QUAKER\",\"EPISCOPALIAN\",\"GREEK ORTHODOX\",\"CHRISTIAN SCIENTIST\",\"JEHOVAH'S WITNESS\",\"UNITARIAN-UNIVERSALIST\",\"ROMANIAN EAST. ORTH\",\"7TH DAY ADVENTIST\",\"BAPTIST\",\"METHODIST\"]),\"CHRISTIAN\")\n",
        "admissions.religion = admissions.religion.str.replace(\"UNOBTAINABLE\",\"NOT SPECIFIED\")\n",
        "admissions.religion = admissions.religion.fillna(value=\"NOT SPECIFIED\")\n",
        "values_less_than_thousand = admissions.religion.value_counts()[admissions.religion.value_counts()<1000]\n",
        "admissions.religion = admissions.religion.str.replace(\"|\".join(values_less_than_thousand.index),\"OTHER\")\n",
        "admissions.religion.value_counts()"
      ],
      "execution_count": 10,
      "outputs": [
        {
          "output_type": "execute_result",
          "data": {
            "text/plain": [
              "CHRISTIAN        25250\n",
              "NOT SPECIFIED    17211\n",
              "JEWISH            4601\n",
              "OTHER             2938\n",
              "Name: religion, dtype: int64"
            ]
          },
          "metadata": {
            "tags": []
          },
          "execution_count": 10
        }
      ]
    },
    {
      "metadata": {
        "id": "yR0tbLvEUjD2",
        "colab_type": "text"
      },
      "cell_type": "markdown",
      "source": [
        "Now, the number of religions have been reduced to 4, which makes it easier to work with and there is minimal loss of information"
      ]
    },
    {
      "metadata": {
        "id": "5dnAYr8DVlZ1",
        "colab_type": "text"
      },
      "cell_type": "markdown",
      "source": [
        "Let's move on to maritial status"
      ]
    },
    {
      "metadata": {
        "id": "Vfs0s4fmVozg",
        "colab_type": "code",
        "colab": {
          "base_uri": "https://localhost:8080/",
          "height": 151
        },
        "outputId": "dfc2cfe4-8c5d-476f-d1e0-bb7c5032276f"
      },
      "cell_type": "code",
      "source": [
        "admissions.marital_status.value_counts()"
      ],
      "execution_count": 11,
      "outputs": [
        {
          "output_type": "execute_result",
          "data": {
            "text/plain": [
              "MARRIED              19952\n",
              "SINGLE               10775\n",
              "WIDOWED               6075\n",
              "DIVORCED              2635\n",
              "SEPARATED              496\n",
              "UNKNOWN (DEFAULT)      294\n",
              "LIFE PARTNER            11\n",
              "Name: marital_status, dtype: int64"
            ]
          },
          "metadata": {
            "tags": []
          },
          "execution_count": 11
        }
      ]
    },
    {
      "metadata": {
        "id": "JreD87HAolum",
        "colab_type": "text"
      },
      "cell_type": "markdown",
      "source": [
        "<a id='Data_exploration'></a>\n",
        "# Data Exploration"
      ]
    },
    {
      "metadata": {
        "id": "TLQui2Nmolun",
        "colab_type": "text"
      },
      "cell_type": "markdown",
      "source": [
        "<a id='Data_modeling'></a>\n",
        "# Data Modeling"
      ]
    },
    {
      "metadata": {
        "id": "GSTM0C5-oluo",
        "colab_type": "text"
      },
      "cell_type": "markdown",
      "source": [
        "<a id='Presentation'></a>\n",
        "# Presentation"
      ]
    }
  ]
}